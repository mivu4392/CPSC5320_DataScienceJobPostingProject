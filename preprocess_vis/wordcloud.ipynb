{
 "cells": [
  {
   "cell_type": "code",
   "execution_count": 15,
   "metadata": {},
   "outputs": [],
   "source": [
    "import pandas as pd\n",
    "import json\n",
    "from nltk.corpus import stopwords\n",
    "from nltk.tokenize import word_tokenize\n",
    "\n",
    "# Read the CSV file\n",
    "df = pd.read_csv('../data/preprocessed_data.csv')"
   ]
  },
  {
   "cell_type": "code",
   "execution_count": 16,
   "metadata": {},
   "outputs": [],
   "source": [
    "# Remove stopwords\n",
    "stop_words = set(stopwords.words('english'))\n",
    "df['Descriptions_clean'] = df['Descriptions_clean'].apply(lambda x: ' '.join([word for word in word_tokenize(x) if word.lower() not in stop_words]))"
   ]
  },
  {
   "cell_type": "code",
   "execution_count": 17,
   "metadata": {},
   "outputs": [],
   "source": [
    "# Group by Title and calculate word count for each word in Descriptions_clean\n",
    "word_counts = df.groupby('Title')['Descriptions_clean'].apply(lambda x: pd.value_counts(' '.join(x).split(\" \"))).reset_index()"
   ]
  },
  {
   "cell_type": "code",
   "execution_count": 18,
   "metadata": {},
   "outputs": [],
   "source": [
    "# Rename the column\n",
    "word_counts.columns = ['title', 'word', 'size']"
   ]
  },
  {
   "cell_type": "code",
   "execution_count": 19,
   "metadata": {},
   "outputs": [],
   "source": [
    "# Multiply the size by 5 for words with title \"Data Analyst\"\n",
    "word_counts.loc[word_counts['title'] == 'Data Analyst', 'size'] *= 6"
   ]
  },
  {
   "cell_type": "code",
   "execution_count": 21,
   "metadata": {},
   "outputs": [],
   "source": [
    "# Export DataFrame to JSON\n",
    "output_data = {}\n",
    "\n",
    "for title, group in word_counts.groupby('title'):\n",
    "    filtered_group = group[group['size'] > 10]\n",
    "    if not filtered_group.empty:\n",
    "        output_data[title] = filtered_group[['word', 'size']].to_dict('records')\n",
    "\n",
    "with open('../data/word_counts.json', 'w') as file:\n",
    "    json.dump(output_data, file)"
   ]
  }
 ],
 "metadata": {
  "kernelspec": {
   "display_name": "Python 3",
   "language": "python",
   "name": "python3"
  },
  "language_info": {
   "codemirror_mode": {
    "name": "ipython",
    "version": 3
   },
   "file_extension": ".py",
   "mimetype": "text/x-python",
   "name": "python",
   "nbconvert_exporter": "python",
   "pygments_lexer": "ipython3",
   "version": "3.9.6"
  },
  "orig_nbformat": 4
 },
 "nbformat": 4,
 "nbformat_minor": 2
}
