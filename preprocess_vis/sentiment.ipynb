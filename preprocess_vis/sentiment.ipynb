{
 "cells": [
  {
   "cell_type": "code",
   "execution_count": 175,
   "metadata": {},
   "outputs": [],
   "source": [
    "import pandas as pd\n",
    "import nltk\n",
    "import json\n",
    "from nltk.corpus import stopwords\n",
    "from nltk.sentiment import SentimentIntensityAnalyzer\n",
    "from nltk.tokenize import word_tokenize"
   ]
  },
  {
   "cell_type": "code",
   "execution_count": 176,
   "metadata": {},
   "outputs": [
    {
     "name": "stderr",
     "output_type": "stream",
     "text": [
      "[nltk_data] Downloading package vader_lexicon to\n",
      "[nltk_data]     /Users/felixvu/nltk_data...\n",
      "[nltk_data]   Package vader_lexicon is already up-to-date!\n",
      "[nltk_data] Downloading package punkt to /Users/felixvu/nltk_data...\n",
      "[nltk_data]   Package punkt is already up-to-date!\n",
      "[nltk_data] Downloading package stopwords to\n",
      "[nltk_data]     /Users/felixvu/nltk_data...\n",
      "[nltk_data]   Package stopwords is already up-to-date!\n"
     ]
    },
    {
     "data": {
      "text/plain": [
       "True"
      ]
     },
     "execution_count": 176,
     "metadata": {},
     "output_type": "execute_result"
    }
   ],
   "source": [
    "nltk.download('vader_lexicon')\n",
    "nltk.download('punkt')\n",
    "nltk.download('stopwords')"
   ]
  },
  {
   "cell_type": "code",
   "execution_count": 177,
   "metadata": {},
   "outputs": [],
   "source": [
    "df = pd.read_csv('../data/preprocessed_data.csv')"
   ]
  },
  {
   "cell_type": "code",
   "execution_count": 178,
   "metadata": {},
   "outputs": [],
   "source": [
    "# Perform sentiment analysis\n",
    "sia = SentimentIntensityAnalyzer()\n",
    "df['Sentiment'] = df['Descriptions_clean'].apply(lambda x: sia.polarity_scores(x))"
   ]
  },
  {
   "cell_type": "code",
   "execution_count": 179,
   "metadata": {},
   "outputs": [],
   "source": [
    "# Categorize sentiment scores\n",
    "def categorize_scores(sentiment_scores):\n",
    "    compound_score = sentiment_scores['compound']\n",
    "    if compound_score < 0:\n",
    "        return 'Negative', -compound_score, 0, 1 - compound_score\n",
    "    elif compound_score > 0:\n",
    "        return 'Positive', 0, compound_score, 1 - compound_score\n",
    "    else:\n",
    "        return 'Neutral', 0, 0, 1\n",
    "\n",
    "df[['Sentiment_Category', 'Negative_Score', 'Positive_Score', 'Neutral_Score']] = df['Sentiment'].apply(categorize_scores).apply(pd.Series)\n"
   ]
  },
  {
   "cell_type": "code",
   "execution_count": 180,
   "metadata": {},
   "outputs": [],
   "source": [
    "# Group by title and calculate normalized scores\n",
    "grouped_scores = df.groupby('Title')[['Negative_Score', 'Positive_Score', 'Neutral_Score']].sum()\n",
    "grouped_scores['Total_Score'] = grouped_scores.sum(axis=1)\n",
    "grouped_scores[['Negative_Score', 'Positive_Score', 'Neutral_Score']] = grouped_scores[['Negative_Score', 'Positive_Score', 'Neutral_Score']].div(grouped_scores['Total_Score'], axis=0)\n",
    "grouped_scores = grouped_scores.drop('Total_Score', axis=1)\n",
    "grouped_scores = grouped_scores.round(4)"
   ]
  },
  {
   "cell_type": "code",
   "execution_count": 181,
   "metadata": {},
   "outputs": [],
   "source": [
    "# Export scores to JSON file\n",
    "sentiment_dict = grouped_scores.to_dict(orient='index')\n",
    "with open('../data/sentiment_scores.json', 'w') as f:\n",
    "    json.dump(sentiment_dict, f)"
   ]
  },
  {
   "cell_type": "code",
   "execution_count": 182,
   "metadata": {},
   "outputs": [],
   "source": [
    "# Extract words for each sentiment category, grouped by title\n",
    "word_categories = {}\n",
    "for title, group in df.groupby('Title'):\n",
    "    negative_words = set(word_tokenize(' '.join(group[group['Sentiment_Category'] == 'Negative']['Descriptions_clean'])))\n",
    "    positive_words = set(word_tokenize(' '.join(group[group['Sentiment_Category'] == 'Positive']['Descriptions_clean'])))\n",
    "    neutral_words = set(word_tokenize(' '.join(group[group['Sentiment_Category'] == 'Neutral']['Descriptions_clean'])))\n",
    "    word_categories[title] = {\n",
    "        'Negative': list(negative_words),\n",
    "        'Positive': list(positive_words),\n",
    "        'Neutral': list(neutral_words)\n",
    "    }"
   ]
  },
  {
   "cell_type": "code",
   "execution_count": 183,
   "metadata": {},
   "outputs": [],
   "source": [
    "# Export words to JSON file\n",
    "with open('../data/word_categories.json', 'w') as f:\n",
    "    json.dump(word_categories, f)"
   ]
  }
 ],
 "metadata": {
  "kernelspec": {
   "display_name": "Python 3",
   "language": "python",
   "name": "python3"
  },
  "language_info": {
   "codemirror_mode": {
    "name": "ipython",
    "version": 3
   },
   "file_extension": ".py",
   "mimetype": "text/x-python",
   "name": "python",
   "nbconvert_exporter": "python",
   "pygments_lexer": "ipython3",
   "version": "3.9.6"
  },
  "orig_nbformat": 4
 },
 "nbformat": 4,
 "nbformat_minor": 2
}
